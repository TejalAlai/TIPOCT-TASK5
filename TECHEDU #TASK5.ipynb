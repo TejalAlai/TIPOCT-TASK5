{
 "cells": [
  {
   "cell_type": "markdown",
   "id": "1502048d",
   "metadata": {},
   "source": [
    "# GAME : ROCK PAPER SCISSOR"
   ]
  },
  {
   "cell_type": "code",
   "execution_count": 4,
   "id": "b3e5c682",
   "metadata": {},
   "outputs": [
    {
     "name": "stdout",
     "output_type": "stream",
     "text": [
      "Enter your choice: rock\n",
      "\n",
      "You have choose rock, computer chooses rock.\n",
      "\n",
      "Both players selected rock. It's a tie!!\n",
      "Do you want to continue?: no\n"
     ]
    }
   ],
   "source": [
    "import random\n",
    "\n",
    "while True:\n",
    "    user_choice = input(\"Enter your choice: \")\n",
    "    possible_choice = [\"rock\", \"paper\", \"scissors\"]\n",
    "    comp_choice = random.choice(possible_choice)\n",
    "    print(f\"\\nYou have choose {user_choice}, computer chooses {comp_choice }.\\n\")\n",
    "\n",
    "    if  user_choice == comp_choice :\n",
    "        print(f\"Both players selected {user_choice}. It's a tie!!\")\n",
    "    elif  user_choice == \"rock\":\n",
    "        if comp_choice  == \"scissors\":\n",
    "            print(\"Rock smashes scissor...Comp lose,You win!!\")\n",
    "        else:\n",
    "            print(\"Paper covers rock...You lose,Comp win!!.\")\n",
    "    elif  user_choice == \"paper\":\n",
    "        if comp_choice == \"rock\":\n",
    "            print(\"Paper covers rock...comp lose,You win!!\")\n",
    "        else:\n",
    "            print(\"Scissors cuts paper! You lose,Comp win!!.\")\n",
    "    elif  user_choice == \"scissors\":\n",
    "        if comp_choice  == \"paper\":\n",
    "            print(\"Scissors cuts paper...comp lose,You win!!\")\n",
    "        else:\n",
    "            print(\"Rock smashes scissors...You lose,Comp win!!.\")\n",
    "\n",
    "    play_again = input(\"Do you want to continue?: \")\n",
    "    if play_again.lower() != \"yes\":\n",
    "        break"
   ]
  },
  {
   "cell_type": "code",
   "execution_count": null,
   "id": "6d9741ff",
   "metadata": {},
   "outputs": [],
   "source": []
  }
 ],
 "metadata": {
  "kernelspec": {
   "display_name": "Python 3",
   "language": "python",
   "name": "python3"
  },
  "language_info": {
   "codemirror_mode": {
    "name": "ipython",
    "version": 3
   },
   "file_extension": ".py",
   "mimetype": "text/x-python",
   "name": "python",
   "nbconvert_exporter": "python",
   "pygments_lexer": "ipython3",
   "version": "3.8.8"
  }
 },
 "nbformat": 4,
 "nbformat_minor": 5
}
